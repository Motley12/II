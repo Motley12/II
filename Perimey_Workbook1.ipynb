{
  "nbformat": 4,
  "nbformat_minor": 0,
  "metadata": {
    "colab": {
      "provenance": [],
      "mount_file_id": "12TYS5o986gFdxu6zc5yxtzmpcJxTMG7Y",
      "authorship_tag": "ABX9TyOiRjEWSikl12hNQHs6elLj",
      "include_colab_link": true
    },
    "kernelspec": {
      "name": "python3",
      "display_name": "Python 3"
    },
    "language_info": {
      "name": "python"
    }
  },
  "cells": [
    {
      "cell_type": "markdown",
      "metadata": {
        "id": "view-in-github",
        "colab_type": "text"
      },
      "source": [
        "<a href=\"https://colab.research.google.com/github/Motley12/II/blob/main/Perimey_Workbook1.ipynb\" target=\"_parent\"><img src=\"https://colab.research.google.com/assets/colab-badge.svg\" alt=\"Open In Colab\"/></a>"
      ]
    },
    {
      "cell_type": "markdown",
      "source": [
        "# 1.1 \n",
        "\n",
        "## Типы данных\n",
        "\n",
        "Все типы данных Python относяться к одной из 2 категорий:\n",
        "изменяемые (mutable) и неизменяемые (immutable).\n",
        "\n",
        "Неизменяемые объекты:\n",
        "  -числовые данные (int, float),\n",
        "  -bool,\n",
        "  -None,\n",
        "  -символьные строки (class 'str'),\n",
        "  -кортежи (tuple).\n",
        "\n",
        "Изменяемые объекты:\n",
        "  -списки (list),\n",
        "  -множества (set), \n",
        "  -словари (dict).\n",
        "\n",
        "  ## 1.2 Пример\n",
        "\n",
        "  # Задача\n",
        "\n",
        "   Выведите на печать и определите тип переменной."
      ],
      "metadata": {
        "id": "zmrZB9wuEBfi"
      }
    },
    {
      "cell_type": "code",
      "source": [
        "x=3+5.2*7\n",
        "y=None\n",
        "z='a',5,12.345, (2,'b')\n",
        "df = [['Антонова Антонина',34,'ж'],['Борисов Борис',26,'м']]\n",
        "A={1,'title',2,'content'}\n",
        "print (x,'|',type(x),'\\n',y,'|',type (y),'\\n',z,'|',type(z),'\\n',df,'|',type (df),'\\n', A, '|', type(A))"
      ],
      "metadata": {
        "id": "maGwQloqD63W",
        "colab": {
          "base_uri": "https://localhost:8080/"
        },
        "outputId": "884218f1-771e-487f-c539-60372d18e19c"
      },
      "execution_count": null,
      "outputs": [
        {
          "output_type": "stream",
          "name": "stdout",
          "text": [
            "39.4 | <class 'float'> \n",
            " None | <class 'NoneType'> \n",
            " ('a', 5, 12.345, (2, 'b')) | <class 'tuple'> \n",
            " [['Антонова Антонина', 34, 'ж'], ['Борисов Борис', 26, 'м']] | <class 'list'> \n",
            " {'content', 1, 2, 'title'} | <class 'set'>\n"
          ]
        }
      ]
    },
    {
      "cell_type": "markdown",
      "source": [
        "## Задача 1.3\n",
        "\n",
        "# Выведите на печать и определите тип переменной."
      ],
      "metadata": {
        "id": "XVsRw8lUHlDW"
      }
    },
    {
      "cell_type": "code",
      "source": [
        "x=5>=2\n",
        "A={1,3,7,8}\n",
        "B={2,4,5,10,'apple'}\n",
        "C=A&B\n",
        "df='Антонова Антонина',34,'ж'\n",
        "z='type'\n",
        "D=[1,'title',2,'content']\n",
        "print (A,'|',type(A),'\\n',B,'|',type (B),'\\n',C,'|',type(C),'\\n',df,'|',type (df),'\\n', z, '|', type(z),'\\n', D, '|', type(D))"
      ],
      "metadata": {
        "colab": {
          "base_uri": "https://localhost:8080/"
        },
        "id": "A_udRXVpHwnE",
        "outputId": "51ffee8a-cad8-4b73-c627-adc26e19ad60"
      },
      "execution_count": null,
      "outputs": [
        {
          "output_type": "stream",
          "name": "stdout",
          "text": [
            "{8, 1, 3, 7} | <class 'set'> \n",
            " {2, 4, 5, 10, 'apple'} | <class 'set'> \n",
            " set() | <class 'set'> \n",
            " ('Антонова Антонина', 34, 'ж') | <class 'tuple'> \n",
            " type | <class 'str'> \n",
            " [1, 'title', 2, 'content'] | <class 'list'>\n"
          ]
        }
      ]
    },
    {
      "cell_type": "markdown",
      "source": [
        "# 2.1 \n",
        "\n",
        "## Условный оператор\n",
        "\n",
        "If – Условный оператор\n",
        "\n",
        "В коде часто приходится проверять выполнимость или\n",
        "невыполнимость каких-то условий. Синтаксис:\n",
        "\n",
        "if <условие1 (булевское выражение)> :\n",
        " <код, который выполнится, если условие верно>\n",
        "\n",
        "elif <условие2 (булевское выражение)>:\n",
        " <код, который выполнится, если условие1 было неверно, а\n",
        "условие2 верно>\n",
        "\n",
        "else:\n",
        " <код, который выполнится, если условие1 и условие2 были\n",
        "неверны>\n",
        "\n",
        "Обратите внимание, что код, который должен выполняться внутри\n",
        "каждого условия, записывается с отступом в 4 пробела от уровня if, elif и\n",
        "else: в питоне области видимости переменных обозначаются отступами.\n",
        "\n",
        "То есть, отступы позволяют понять, где начинается код,\n",
        "который должен выполняться при выполнении условия в if, и где\n",
        "заканчивается.\n",
        "\n",
        "# Пример 2.2\n",
        "\n",
        "##Задача\n",
        "\n",
        "Вывести на экран является ли переменная х положительной,\n",
        "отрицательной или равна нулю.\n"
      ],
      "metadata": {
        "id": "pkaU8Wh7JYNk"
      }
    },
    {
      "cell_type": "code",
      "source": [
        "x=125  \n",
        "if x<0:\n",
        "    print (\"x отрицательный\")\n",
        "elif x==0:\n",
        "    print (\"x равен нулю\")\n",
        "else:\n",
        "    print (\"x положительный\")\n",
        "    "
      ],
      "metadata": {
        "colab": {
          "base_uri": "https://localhost:8080/"
        },
        "id": "eiWuQpp8KEcb",
        "outputId": "1f3692cd-29d2-4521-f799-678ecb913864"
      },
      "execution_count": null,
      "outputs": [
        {
          "output_type": "stream",
          "name": "stdout",
          "text": [
            "x положительный\n"
          ]
        }
      ]
    },
    {
      "cell_type": "markdown",
      "source": [
        "## 2.3 Задание\n",
        "\n",
        "Напишите код. \n",
        "\n",
        "Задается х, напечатать какому из интервалов\n",
        "принадлежит: (-infinity, -5), [-5, 5] или от (5, +infinity)"
      ],
      "metadata": {
        "id": "vICy9e6CL7tE"
      }
    },
    {
      "cell_type": "code",
      "source": [
        "x=-100\n",
        "if (x<-5):\n",
        "    print (\"x<-5\")\n",
        "elif (-5<=x<=5):\n",
        "    print (\"-5 до 5\")\n",
        "else:\n",
        "    print (\"x>5\")"
      ],
      "metadata": {
        "colab": {
          "base_uri": "https://localhost:8080/"
        },
        "id": "JHUkIAffMpFI",
        "outputId": "2a00de13-9509-4fc8-853f-7ee3632e2a71"
      },
      "execution_count": null,
      "outputs": [
        {
          "output_type": "stream",
          "name": "stdout",
          "text": [
            "x<-5\n"
          ]
        }
      ]
    },
    {
      "cell_type": "markdown",
      "source": [
        "# 3.1 Циклы, массивы, срезы\n",
        "\n",
        "Циклы - for и while\n",
        "\n",
        "Цикл while проверяет истинность условия, и если условие истинно, то\n",
        "выполняет инструкции цикла.\n",
        "\n",
        "Синтаксис:\n",
        "\n",
        "while условие:\n",
        " инструкции\n",
        "\n",
        "Инструкции, которые относятся к циклу while, располагаются на\n",
        "последующих строках и должны иметь отступ от начала ключевого слова\n",
        "while.\n",
        "\n",
        "Цикл for проходит по набору значений, помещает каждое значение в\n",
        "переменную с которой в цикле можно производить различные действия.\n",
        "\n",
        "Синтаксис:\n",
        "\n",
        "for переменная in набор_значений:\n",
        " инструкции\n",
        "\n",
        "После ключевого слова for идет название переменной, в которую\n",
        "будут помещаться значения. После оператора in указывается набор значений\n",
        "и двоеточие. \n",
        "\n",
        "Инструкции, которые относятся к циклу, располагаются на\n",
        "последующих строках и должны иметь отступ.\n",
        "\n",
        "При создании цикла удобно пользоваться функцией range(a, b),\n",
        "которая создает последовательность чисел от a до b-1.\n",
        "\n",
        "# 3.2.1 Пример\n",
        "\n",
        "## Вывести все числа от 1 до 10 с шагом 3.\n"
      ],
      "metadata": {
        "id": "mWtxBWZMOxwi"
      }
    },
    {
      "cell_type": "code",
      "source": [
        "x=1\n",
        "while x<=10:\n",
        "  print(x)\n",
        "  x+=3"
      ],
      "metadata": {
        "colab": {
          "base_uri": "https://localhost:8080/"
        },
        "id": "iv8xxQ9rPmNH",
        "outputId": "ec044f13-3e81-4370-de3b-ab784f53022f"
      },
      "execution_count": null,
      "outputs": [
        {
          "output_type": "stream",
          "name": "stdout",
          "text": [
            "1\n",
            "4\n",
            "7\n",
            "10\n"
          ]
        }
      ]
    },
    {
      "cell_type": "markdown",
      "source": [
        "# 3.2.2 Пример\n",
        "\n",
        "## Задан список. Напечатать все элементы списка.\n"
      ],
      "metadata": {
        "id": "jplDm3SuP5g6"
      }
    },
    {
      "cell_type": "code",
      "source": [
        "models =  ['KNN','decision tree','linear model']\n",
        "for model in models:\n",
        "  print(model)"
      ],
      "metadata": {
        "colab": {
          "base_uri": "https://localhost:8080/"
        },
        "id": "EcVeFekAP-nm",
        "outputId": "e0822c5f-7194-4218-c99a-460a86ec5ba4"
      },
      "execution_count": null,
      "outputs": [
        {
          "output_type": "stream",
          "name": "stdout",
          "text": [
            "KNN\n",
            "decision tree\n",
            "linear model\n"
          ]
        }
      ]
    },
    {
      "cell_type": "markdown",
      "source": [
        "# 3.2.3 Пример\n",
        "\n",
        "## Создать список от 1 до 99 с шагом 7.\n"
      ],
      "metadata": {
        "id": "DN6D-rcbRQp6"
      }
    },
    {
      "cell_type": "code",
      "source": [
        "list_int = range(1,100,7)\n",
        "print(list(list_int))"
      ],
      "metadata": {
        "colab": {
          "base_uri": "https://localhost:8080/"
        },
        "id": "fp46w3R9RXWx",
        "outputId": "92e52f64-0782-46b4-a870-313e9d50602e"
      },
      "execution_count": null,
      "outputs": [
        {
          "output_type": "stream",
          "name": "stdout",
          "text": [
            "[1, 8, 15, 22, 29, 36, 43, 50, 57, 64, 71, 78, 85, 92, 99]\n"
          ]
        }
      ]
    },
    {
      "cell_type": "markdown",
      "source": [
        "# 3.2.4 Пример\n",
        "\n",
        "## Вывести на экран числа от 1 до 105 с шагом 25, используя функцию range()"
      ],
      "metadata": {
        "id": "vYh__UoMRoyA"
      }
    },
    {
      "cell_type": "code",
      "source": [
        "for i in range(5,106,25):\n",
        "  print (i)"
      ],
      "metadata": {
        "colab": {
          "base_uri": "https://localhost:8080/"
        },
        "id": "HvecuyuoRqBJ",
        "outputId": "abde340a-047e-4a0c-85a2-af1b8ae91305"
      },
      "execution_count": null,
      "outputs": [
        {
          "output_type": "stream",
          "name": "stdout",
          "text": [
            "5\n",
            "30\n",
            "55\n",
            "80\n",
            "105\n"
          ]
        }
      ]
    },
    {
      "cell_type": "markdown",
      "source": [
        "# 3.2.5 Пример\n",
        "\n",
        "## Срез. Необходимо получить каждый k-й элемент массива a, начиная с элемента с индексом i (включительно) и заканчивая элементом с индексом j (не включительно), c шагом 2. Или переставить все элементы в обратном порядке.\n"
      ],
      "metadata": {
        "id": "GZMU7H8FRqm-"
      }
    },
    {
      "cell_type": "code",
      "source": [
        "a=[1,2,3,4,5,6,7,8,9]\n",
        "b=a[1:7:2]\n",
        "c=a[::-1]\n",
        "print (b)\n",
        "print (c)"
      ],
      "metadata": {
        "colab": {
          "base_uri": "https://localhost:8080/"
        },
        "id": "Nd5aBvuQRriU",
        "outputId": "6d853e87-6cc6-4608-d0dc-2ee1182f4bbe"
      },
      "execution_count": null,
      "outputs": [
        {
          "output_type": "stream",
          "name": "stdout",
          "text": [
            "[2, 4, 6]\n",
            "[9, 8, 7, 6, 5, 4, 3, 2, 1]\n"
          ]
        }
      ]
    },
    {
      "cell_type": "markdown",
      "source": [
        "# 3.3.1 Задание\n",
        "\n",
        "## Выведите числа из примера на while (3.2.1) в обратном порядке.\n"
      ],
      "metadata": {
        "id": "YuROG9TpSj4I"
      }
    },
    {
      "cell_type": "code",
      "source": [
        "x=13\n",
        "while x>0:\n",
        "  print(x)\n",
        "  x-=3"
      ],
      "metadata": {
        "colab": {
          "base_uri": "https://localhost:8080/"
        },
        "id": "Am3KoIPZSku0",
        "outputId": "00d39065-f978-42ad-99b4-4f3afea922dd"
      },
      "execution_count": null,
      "outputs": [
        {
          "output_type": "stream",
          "name": "stdout",
          "text": [
            "10\n",
            "7\n",
            "4\n",
            "1\n"
          ]
        }
      ]
    },
    {
      "cell_type": "markdown",
      "source": [],
      "metadata": {
        "id": "yvyclGi6Snna"
      }
    },
    {
      "cell_type": "markdown",
      "source": [
        "# 3.3.2 Пример\n",
        "\n",
        "## При решении задач машинного обучения часто в качестве объектов исследования выступает человек. Создайте список значимых характеристик (признаков), идентифицирующих человека. Выведите список на экран."
      ],
      "metadata": {
        "id": "KB-NWrufSnwT"
      }
    },
    {
      "cell_type": "code",
      "source": [
        "models =  ['name','age','hight']\n",
        "for model in models:\n",
        "  print(model)"
      ],
      "metadata": {
        "colab": {
          "base_uri": "https://localhost:8080/"
        },
        "id": "6DzG5rcLSoVU",
        "outputId": "385a9e5f-5bd0-428b-ed3e-c615395f5223"
      },
      "execution_count": null,
      "outputs": [
        {
          "output_type": "stream",
          "name": "stdout",
          "text": [
            "name\n",
            "age\n",
            "hight\n"
          ]
        }
      ]
    },
    {
      "cell_type": "markdown",
      "source": [
        "# 3.3.3 Пример\n",
        "\n",
        "## Создать список чисел от 2 до 15 с шагом 1.\n"
      ],
      "metadata": {
        "id": "Vy35eOqwSo_s"
      }
    },
    {
      "cell_type": "code",
      "source": [
        "list_int = range(2,15,1)\n",
        "print(list(list_int))"
      ],
      "metadata": {
        "colab": {
          "base_uri": "https://localhost:8080/"
        },
        "id": "1KvxmEXgSphf",
        "outputId": "2397a464-e671-4da7-ea9c-efc72697e0ac"
      },
      "execution_count": null,
      "outputs": [
        {
          "output_type": "stream",
          "name": "stdout",
          "text": [
            "[2, 3, 4, 5, 6, 7, 8, 9, 10, 11, 12, 13, 14]\n"
          ]
        }
      ]
    },
    {
      "cell_type": "markdown",
      "source": [
        "# 3.3.4 Пример\n",
        "\n",
        "## Выведите числа из примера на for c функцией range() (3.2.4) в обратном порядке."
      ],
      "metadata": {
        "id": "cYVQdwzWSqEw"
      }
    },
    {
      "cell_type": "code",
      "source": [
        "for i in range(105,4,-25):\n",
        "  print (i)"
      ],
      "metadata": {
        "colab": {
          "base_uri": "https://localhost:8080/"
        },
        "id": "kAKLEagySqgU",
        "outputId": "d561997d-21d8-487d-d3a1-920f97ead0ee"
      },
      "execution_count": null,
      "outputs": [
        {
          "output_type": "stream",
          "name": "stdout",
          "text": [
            "105\n",
            "80\n",
            "55\n",
            "30\n",
            "5\n"
          ]
        }
      ]
    },
    {
      "cell_type": "markdown",
      "source": [
        "# 3.3.5 Задача\n",
        "\n",
        "## Срез. Напишите код, который все элементы массива x с четными индексами переставит в обратном порядке. Т.е. если x = [0, 1, 2, 3, 4, 5, 6, 7, 8, 9], то код должен сформировать [8, 1, 6, 3, 4, 5, 2, 7, 0, 9]."
      ],
      "metadata": {
        "id": "EDDTpc7ySrDy"
      }
    },
    {
      "cell_type": "code",
      "source": [
        "a=[0,1,2,3,4,5,6,7,8,9]\n",
        "b = a[::2]\n",
        "rev = b[::-1]\n",
        "for i in a:\n",
        "    if i%2==0:\n",
        "        a[i]=rev[int(i/2)]\n",
        "print(list(a))"
      ],
      "metadata": {
        "colab": {
          "base_uri": "https://localhost:8080/"
        },
        "id": "WNHTGErySrhM",
        "outputId": "cd06ceca-5f43-4c62-c022-9eb0a1e2699c"
      },
      "execution_count": null,
      "outputs": [
        {
          "output_type": "stream",
          "name": "stdout",
          "text": [
            "[8, 1, 6, 3, 4, 5, 2, 7, 0, 9]\n"
          ]
        }
      ]
    },
    {
      "cell_type": "markdown",
      "source": [],
      "metadata": {
        "id": "U3-n6SqNaKZG"
      }
    },
    {
      "cell_type": "markdown",
      "source": [
        "# 4.1. Теоретический материал - Библиотеки\n",
        "\n",
        "Машинное обучение опирается на фундаментальные понятия и законы\n",
        "математики и информатики. \n",
        "\n",
        "Библиотека математических функций (math)\n",
        "применяется при решении большинства прикладных задач анализа данных.\n",
        "\n",
        "Также, и некоторые другие библиотеки Python содержат математические\n",
        "функции (например, NumPy). Важную роль играет библиотека matplotlib,\n",
        "которая позволяет производить визуализацию расчетов в удобной для\n",
        "восприятия человеком форме: графики, диаграммы, гистограммы.\n",
        "\n",
        "Подключение библиотек – синтаксис:\n",
        "\n",
        "import math as m\n",
        "\n",
        "import numpy as np\n",
        "\n",
        "import matplotlib.pyplot as plt\n",
        "etc…\n",
        "\n",
        "Библиотеки в python содержат не только функции, позволяющие решать\n",
        "различные задачи, но и некоторые популярные константы, например число\n",
        "Эйлера.\n",
        "\n",
        "# 4.2.1 Пример\n",
        "## Рассчитать синус от е радиан и вывести результат на экран\n",
        "\n"
      ],
      "metadata": {
        "id": "U4bG1BpiZHEW"
      }
    },
    {
      "cell_type": "code",
      "source": [
        "import math as m\n",
        "print (m.sin(m.e))"
      ],
      "metadata": {
        "colab": {
          "base_uri": "https://localhost:8080/"
        },
        "id": "_GgTHD4lZcF2",
        "outputId": "29e2fdea-da5e-440b-8ed2-1993c6928863"
      },
      "execution_count": null,
      "outputs": [
        {
          "output_type": "stream",
          "name": "stdout",
          "text": [
            "0.41078129050290885\n"
          ]
        }
      ]
    },
    {
      "cell_type": "markdown",
      "source": [
        "# 4.2.2 Пример\n",
        "\n",
        "Для функции sin(𝑥𝑒\n",
        "cos(𝑥)\n",
        ") на интервале [0;10] с шагом 0,05 построить\n",
        "график функции, закрасить площадь под ним и вычислить значение\n",
        "этой площади.\n",
        "Для вычисления площади воспользуйте функции trapz(), вычисляющей\n",
        "интеграл по правилу трапеции. Для ее корректной работы необходимо\n",
        "подключить следующие библиотеки:\n",
        "from scipy.integrate import simps\n",
        "from numpy import trapz\n"
      ],
      "metadata": {
        "id": "oPAi9O1BaLu-"
      }
    },
    {
      "cell_type": "code",
      "source": [
        "import numpy as np\n",
        "import matplotlib.pyplot as plt \n",
        "from scipy.integrate import simps\n",
        "from numpy import trapz\n",
        "x=np.arange(0.0,10,0.1)\n",
        "y=np.abs(np.sin(x*np.exp(np.cos(x))))\n",
        "plt.grid()\n",
        "plt.plot (x,y,c = \"r\")\n",
        "plt.fill_between (x,y)\n",
        "area = trapz(y)\n",
        "print (area)"
      ],
      "metadata": {
        "colab": {
          "base_uri": "https://localhost:8080/",
          "height": 282
        },
        "id": "b6okVl-taSQ5",
        "outputId": "663c0ebc-c5c6-4903-8ced-c33aea9c89d5"
      },
      "execution_count": null,
      "outputs": [
        {
          "output_type": "stream",
          "name": "stdout",
          "text": [
            "73.50792907748662\n"
          ]
        },
        {
          "output_type": "display_data",
          "data": {
            "text/plain": [
              "<Figure size 432x288 with 1 Axes>"
            ],
            "image/png": "[encoded data removed]"
          },
          "metadata": {
            "needs_background": "light"
          }
        }
      ]
    },
    {
      "cell_type": "markdown",
      "source": [
        "# 4.2.3 Пример\n",
        "\n",
        "Дано некоторое распределение оценок в группе за экзамен. Нарисовать\n",
        "круговую и точечную диаграммы распределения. "
      ],
      "metadata": {
        "id": "FEobSyvNbj8q"
      }
    },
    {
      "cell_type": "code",
      "source": [
        "from matplotlib import pyplot as plt\n",
        "import numpy as np\n",
        "marks = ['2','3','4','5']\n",
        "data = [3,7,8,4]\n",
        "fig=plt.figure(figsize=(10,7))\n",
        "plt.pie(data,labels = marks)\n",
        "plt.show()\n",
        "plt.grid()\n",
        "plt.scatter(marks,data)"
      ],
      "metadata": {
        "colab": {
          "base_uri": "https://localhost:8080/",
          "height": 676
        },
        "id": "MVUS2b5Ebo_T",
        "outputId": "e1398afe-4268-47e2-fd11-2e97c4198d83"
      },
      "execution_count": null,
      "outputs": [
        {
          "output_type": "display_data",
          "data": {
            "text/plain": [
              "<Figure size 720x504 with 1 Axes>"
            ],
            "image/png": "[encoded data removed]"
          },
          "metadata": {}
        },
        {
          "output_type": "execute_result",
          "data": {
            "text/plain": [
              "<matplotlib.collections.PathCollection at 0x7f8e397a51c0>"
            ]
          },
          "metadata": {},
          "execution_count": 53
        },
        {
          "output_type": "display_data",
          "data": {
            "text/plain": [
              "<Figure size 432x288 with 1 Axes>"
            ],
            "image/png": "[encoded data removed]"
          },
          "metadata": {
            "needs_background": "light"
          }
        }
      ]
    },
    {
      "cell_type": "markdown",
      "source": [
        "# 4.3.1 Задание\n",
        "\n",
        "Задайте массив случайных значений из интервала(0; 1).\n",
        "Рассчитайте средние и медианные значения для массива, сравните\n",
        "результаты, какие выводы можно сделать о значениях?\n",
        "Постройте точечную диаграмму рассения полученного ряда.\n"
      ],
      "metadata": {
        "id": "VF7mRq6ycsfR"
      }
    },
    {
      "cell_type": "code",
      "source": [
        "import numpy as nump\n",
        "from matplotlib import pyplot as plot\n",
        "import random\n",
        "\n",
        "data = []\n",
        "for i in range(10):\n",
        "    data.append(random.random())\n",
        "average = nump.average(data)\n",
        "print(f\"AVG: {average}\")\n",
        "med = nump.median(data)\n",
        "print(f\"MED: {med}\")\n",
        "plot.grid()\n",
        "plot.scatter(data,data)"
      ],
      "metadata": {
        "colab": {
          "base_uri": "https://localhost:8080/",
          "height": 317
        },
        "id": "oFZ3KQ8ac9kp",
        "outputId": "adbe2021-bef3-4ff5-9b85-f7592cff2cb2"
      },
      "execution_count": null,
      "outputs": [
        {
          "output_type": "stream",
          "name": "stdout",
          "text": [
            "AVG: 0.561440686997775\n",
            "MED: 0.6493610372378853\n"
          ]
        },
        {
          "output_type": "execute_result",
          "data": {
            "text/plain": [
              "<matplotlib.collections.PathCollection at 0x7fa6e9113e20>"
            ]
          },
          "metadata": {},
          "execution_count": 4
        },
        {
          "output_type": "display_data",
          "data": {
            "text/plain": [
              "<Figure size 432x288 with 1 Axes>"
            ],
            "image/png": "[encoded data removed]"
          },
          "metadata": {
            "needs_background": "light"
          }
        }
      ]
    },
    {
      "cell_type": "markdown",
      "source": [
        "# 4.3.2 Задание\n",
        "Дана функция ((sqrt(1+e^(sqrt(x))+cosx^2))/(|1-sin^3 x|)) + ln|2x|\n",
        "\n",
        "Создать массив из 10 значений функции (𝑥, например, изменяется от 1 до 10). Выделить срез первой половины массива и построить графики для основного массива – линейный и для среза – точечный"
      ],
      "metadata": {
        "id": "Qn4wYnpmmj_F"
      }
    },
    {
      "cell_type": "code",
      "source": [
        "import numpy as nump\n",
        "import matplotlib.pyplot as plot\n",
        "def formula(x):\n",
        "    up = nump.sqrt(1+nump.power(nump.e,nump.sqrt(x))+nump.cos(nump.power(x,2)))\n",
        "    down = nump.abs(1-nump.power(nump.sin(x),3))\n",
        "    return (up/down)+nump.log(nump.abs(2*x))\n",
        "data = []\n",
        "for i in range(11):\n",
        "    data.append(formula(i))\n",
        "srez = data[0:6]\n",
        "plot.grid()\n",
        "plot.plot(range(0,11),data,c=\"r\")\n",
        "plot.fill_between(range(0,11),data)\n",
        "plot.show()\n",
        "plot.scatter(range(0,6),srez)"
      ],
      "metadata": {
        "colab": {
          "base_uri": "https://localhost:8080/",
          "height": 565
        },
        "id": "KBP77P5Kw1l9",
        "outputId": "745bb67c-7008-47da-9b08-0472532a52a7"
      },
      "execution_count": null,
      "outputs": [
        {
          "output_type": "stream",
          "name": "stderr",
          "text": [
            "<ipython-input-5-22ecd4fa07ca>:7: RuntimeWarning: divide by zero encountered in log\n",
            "  return (up/down)+nump.log(nump.abs(2*x))\n"
          ]
        },
        {
          "output_type": "display_data",
          "data": {
            "text/plain": [
              "<Figure size 432x288 with 1 Axes>"
            ],
            "image/png": "[encoded data removed]"
          },
          "metadata": {
            "needs_background": "light"
          }
        },
        {
          "output_type": "execute_result",
          "data": {
            "text/plain": [
              "<matplotlib.collections.PathCollection at 0x7fa6e6761ac0>"
            ]
          },
          "metadata": {},
          "execution_count": 5
        },
        {
          "output_type": "display_data",
          "data": {
            "text/plain": [
              "<Figure size 432x288 with 1 Axes>"
            ],
            "image/png": "[encoded data removed]"
          },
          "metadata": {
            "needs_background": "light"
          }
        }
      ]
    },
    {
      "cell_type": "markdown",
      "source": [
        "# 4.3.3 Задание\n",
        "\n",
        "Дана функция |cos(𝑥𝑒^(cos(𝑥)+ln(𝑥+1)))|\n",
        "\n",
        "Построить график на интервале (0,10) с шагом 1 с заливкой площади и найти эту площадь под ним. Для вычисления площади воспользуйте функции trapz(), вычисляющей интеграл по правилу трапеции. \n",
        "\n",
        "Для ее корректной работы необходимо подключить следующие библиотеки: from scipy.integrate import simps from numpy import trapz"
      ],
      "metadata": {
        "id": "5PxEMd_axptA"
      }
    },
    {
      "cell_type": "code",
      "source": [
        "import numpy as n\n",
        "import matplotlib.pyplot as plot\n",
        "from scipy.integrate import simps\n",
        "from numpy import trapz\n",
        "def f(x):\n",
        "    internal = n.cos(x)+n.log(x+1)\n",
        "    xe = x*n.power(n.e,internal)\n",
        "    return n.abs(n.cos(xe))\n",
        "data = []\n",
        "for i in range(11):\n",
        "    data.append(f(i))\n",
        "plot.grid()\n",
        "plot.plot(range(0,11),data)\n",
        "plot.fill_between(range(0,11),data)\n",
        "plot.show()\n",
        "area = trapz(data)\n",
        "print(area)"
      ],
      "metadata": {
        "colab": {
          "base_uri": "https://localhost:8080/",
          "height": 282
        },
        "id": "B1KRYXR4x8Yv",
        "outputId": "ee33b292-7e3d-4cf2-9431-e7dc2a02b542"
      },
      "execution_count": null,
      "outputs": [
        {
          "output_type": "display_data",
          "data": {
            "text/plain": [
              "<Figure size 432x288 with 1 Axes>"
            ],
            "image/png": "[encoded data removed]"
          },
          "metadata": {
            "needs_background": "light"
          }
        },
        {
          "output_type": "stream",
          "name": "stdout",
          "text": [
            "6.748183214657723\n"
          ]
        }
      ]
    },
    {
      "cell_type": "markdown",
      "source": [
        "# 4.3.4 Задание\n",
        "\n",
        "Откройте статистические данные по стоимости акций Apple, Microsoft, Google за 12 месяцев 2021 г. Постройте 3 графика на плоскости и оцените их динамику. Подумайте, как можно улучшить читаемость результатов. Для начальных данных допустимо использовать следующий ресурс: https://finance.yahoo.com"
      ],
      "metadata": {
        "id": "19Cs-oWUyM1_"
      }
    },
    {
      "cell_type": "code",
      "source": [
        "import numpy as nump\n",
        "import matplotlib.pyplot as plot\n",
        "import requests\n",
        "\n",
        "token = \"TOKEN","\n",
        "papers = [\"GOOG\",\"AAPL\",\"MSFT\"]\n",
        "\n",
        "for paper in papers:\n",
        "    response = requests.get(f\"https://financialmodelingprep.com/api/v3/historical-price-full/{paper}?from=2021-01-01&to=2021-12-31&apikey={token}\").json()\n",
        "    data = []\n",
        "    dates = []\n",
        "    for line in response[\"historical\"]:\n",
        "        data.append(line[\"adjClose\"])\n",
        "        dates.append(line[\"date\"])\n",
        "    data=data[::-1]\n",
        "    dates=dates[::-1]\n",
        "    print(\"компания:   \",paper)\n",
        "    print(\"максимум:   \",nump.max(data))\n",
        "    print(\"минимум:    \",nump.min(data))\n",
        "    print(\"общий рост: \",data[len(data)-1]-data[0])\n",
        "    plot.grid()\n",
        "    plot.plot(dates,data,label=\"Стоимость\")\n",
        "    plot.xticks(nump.arange(0, len(dates), 14),rotation=270)\n",
        "    plot.legend(loc=\"upper left\") \n",
        "    plot.show()"
      ],
      "metadata": {
        "colab": {
          "base_uri": "https://localhost:8080/",
          "height": 1000
        },
        "id": "ZAb9e1agyL4I",
        "outputId": "4230580c-b5a5-43a8-a55d-8094365a68d3"
      },
      "execution_count": null,
      "outputs": [
        {
          "output_type": "stream",
          "name": "stdout",
          "text": [
            "компания:    GOOG\n",
            "максимум:    150.709\n",
            "минимум:     86.412003\n",
            "общий рост:  58.26750100000001\n"
          ]
        },
        {
          "output_type": "display_data",
          "data": {
            "text/plain": [
              "<Figure size 432x288 with 1 Axes>"
            ],
            "image/png": "[encoded data removed]"
          },
          "metadata": {
            "needs_background": "light"
          }
        },
        {
          "output_type": "stream",
          "name": "stdout",
          "text": [
            "компания:    AAPL\n",
            "максимум:    179.016129\n",
            "минимум:     114.975998\n",
            "общий рост:  48.596222\n"
          ]
        },
        {
          "output_type": "display_data",
          "data": {
            "text/plain": [
              "<Figure size 432x288 with 1 Axes>"
            ],
            "image/png": "[encoded data removed]"
          },
          "metadata": {
            "needs_background": "light"
          }
        },
        {
          "output_type": "stream",
          "name": "stdout",
          "text": [
            "компания:    MSFT\n",
            "максимум:    339.075531\n",
            "минимум:     208.010651\n",
            "общий рост:  119.02345300000002\n"
          ]
        },
        {
          "output_type": "display_data",
          "data": {
            "text/plain": [
              "<Figure size 432x288 with 1 Axes>"
            ],
            "image/png": "[encoded data removed]"
          },
          "metadata": {
            "needs_background": "light"
          }
        }
      ]
    },
    {
      "cell_type": "markdown",
      "source": [
        "# 4.3.5 Задание\n",
        "\n",
        "Создайте простейший калькулятор, включающий основные действия\n",
        "для двух переменных ′ + ′, ′ − ′, ′ ∙ ′, ′ ÷ ′, а также вычисление\n",
        "следующих функций: 𝑒^𝑥+𝑦, sin^(𝑥 + 𝑦) , cos^(𝑥 + 𝑦) , 𝑥^𝑦"
      ],
      "metadata": {
        "id": "J8BD4SKEad0S"
      }
    },
    {
      "cell_type": "code",
      "source": [
        "import numpy as nump\n",
        "x = float(input(\"x=\"))\n",
        "y = float(input(\"y=\"))\n",
        "s = int(input(\"Знак (1,2,3,4,5,6,7,8): \"))\n",
        "if   s == 1:\n",
        "    print(x+y)\n",
        "elif s == 2:\n",
        "    print(x-y)\n",
        "elif s == 3:\n",
        "    print(x*y)\n",
        "elif s == 4:\n",
        "  print(x*y)\n",
        "elif s == 5:\n",
        "  print(nump.power(nump.e,x+y))\n",
        "elif s == 6:\n",
        "  print(nump.sin(x+y))\n",
        "elif s == 7:\n",
        "  print(nump.cos(x+y))\n",
        "elif s == 8:\n",
        "  print(nump.power(x,y))"
      ],
      "metadata": {
        "colab": {
          "base_uri": "https://localhost:8080/"
        },
        "id": "-HsEQt1eaucp",
        "outputId": "d8508654-1cb9-49a5-d9f2-3ba4c9857a82"
      },
      "execution_count": null,
      "outputs": [
        {
          "output_type": "stream",
          "name": "stdout",
          "text": [
            "x=4\n",
            "y=4\n",
            "Знак (1,2,3,4,5,6,7,8): 3\n",
            "16.0\n"
          ]
        }
      ]
    }
  ]
}
